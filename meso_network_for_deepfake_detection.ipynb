{
  "nbformat": 4,
  "nbformat_minor": 0,
  "metadata": {
    "kernelspec": {
      "language": "python",
      "display_name": "Python 3",
      "name": "python3"
    },
    "language_info": {
      "pygments_lexer": "ipython3",
      "nbconvert_exporter": "python",
      "version": "3.6.4",
      "file_extension": ".py",
      "codemirror_mode": {
        "name": "ipython",
        "version": 3
      },
      "name": "python",
      "mimetype": "text/x-python"
    },
    "colab": {
      "name": "meso_network_for_deepfake_detection.ipynb",
      "provenance": []
    },
    "accelerator": "GPU"
  },
  "cells": [
    {
      "cell_type": "markdown",
      "metadata": {
        "id": "oSGV7HO3F65B"
      },
      "source": [
        "<h1><font color='red'>Importing Liabraries and Dataset</h1>"
      ]
    },
    {
      "cell_type": "code",
      "metadata": {
        "_uuid": "8f2839f25d086af736a60e9eeb907d3b93b6e0e5",
        "_cell_guid": "b1076dfc-b9ad-4769-8c92-a6c4dae69d19",
        "execution": {
          "iopub.status.busy": "2021-09-28T07:13:46.53881Z",
          "iopub.execute_input": "2021-09-28T07:13:46.539138Z",
          "iopub.status.idle": "2021-09-28T07:13:59.221444Z",
          "shell.execute_reply.started": "2021-09-28T07:13:46.539084Z",
          "shell.execute_reply": "2021-09-28T07:13:59.22059Z"
        },
        "trusted": true,
        "colab": {
          "base_uri": "https://localhost:8080/"
        },
        "id": "H3JYgPx7F23X",
        "outputId": "0a7eae9e-a5b4-48a2-bd86-aad32334216e"
      },
      "source": [
        "!pip install mtcnn\n",
        "!pip install keras-video-generators\n",
        "import os\n",
        "import cv2 as cv\n",
        "import tensorflow as tf\n",
        "from tensorflow import keras\n",
        "import os\n",
        "import glob\n",
        "import keras\n",
        "from google.colab import drive\n",
        "import matplotlib.pyplot as plt\n",
        "import pandas as pd\n",
        "import json\n",
        "import numpy as np\n",
        "import seaborn as sns\n",
        "import gc\n",
        "from tensorflow.keras.models import Sequential\n",
        "from mtcnn.mtcnn import MTCNN\n",
        "from tensorflow.keras.layers import Conv2D, BatchNormalization,MaxPooling2D, GlobalMaxPool2D,Dense, Dropout,Flatten\n",
        "from keras.preprocessing.image import ImageDataGenerator\n",
        "from keras.utils.np_utils import to_categorical"
      ],
      "execution_count": 1,
      "outputs": [
        {
          "output_type": "stream",
          "name": "stdout",
          "text": [
            "Collecting mtcnn\n",
            "  Downloading mtcnn-0.1.1-py3-none-any.whl (2.3 MB)\n",
            "\u001b[K     |████████████████████████████████| 2.3 MB 5.2 MB/s \n",
            "\u001b[?25hRequirement already satisfied: keras>=2.0.0 in /usr/local/lib/python3.7/dist-packages (from mtcnn) (2.6.0)\n",
            "Requirement already satisfied: opencv-python>=4.1.0 in /usr/local/lib/python3.7/dist-packages (from mtcnn) (4.1.2.30)\n",
            "Requirement already satisfied: numpy>=1.14.5 in /usr/local/lib/python3.7/dist-packages (from opencv-python>=4.1.0->mtcnn) (1.19.5)\n",
            "Installing collected packages: mtcnn\n",
            "Successfully installed mtcnn-0.1.1\n",
            "Collecting keras-video-generators\n",
            "  Downloading keras-video-generators-1.0.14.tar.gz (11 kB)\n",
            "Requirement already satisfied: keras>=2 in /usr/local/lib/python3.7/dist-packages (from keras-video-generators) (2.6.0)\n",
            "Requirement already satisfied: numpy in /usr/local/lib/python3.7/dist-packages (from keras-video-generators) (1.19.5)\n",
            "Requirement already satisfied: opencv-python in /usr/local/lib/python3.7/dist-packages (from keras-video-generators) (4.1.2.30)\n",
            "Requirement already satisfied: matplotlib in /usr/local/lib/python3.7/dist-packages (from keras-video-generators) (3.2.2)\n",
            "Requirement already satisfied: python-dateutil>=2.1 in /usr/local/lib/python3.7/dist-packages (from matplotlib->keras-video-generators) (2.8.2)\n",
            "Requirement already satisfied: kiwisolver>=1.0.1 in /usr/local/lib/python3.7/dist-packages (from matplotlib->keras-video-generators) (1.3.2)\n",
            "Requirement already satisfied: cycler>=0.10 in /usr/local/lib/python3.7/dist-packages (from matplotlib->keras-video-generators) (0.10.0)\n",
            "Requirement already satisfied: pyparsing!=2.0.4,!=2.1.2,!=2.1.6,>=2.0.1 in /usr/local/lib/python3.7/dist-packages (from matplotlib->keras-video-generators) (2.4.7)\n",
            "Requirement already satisfied: six in /usr/local/lib/python3.7/dist-packages (from cycler>=0.10->matplotlib->keras-video-generators) (1.15.0)\n",
            "Building wheels for collected packages: keras-video-generators\n",
            "  Building wheel for keras-video-generators (setup.py) ... \u001b[?25l\u001b[?25hdone\n",
            "  Created wheel for keras-video-generators: filename=keras_video_generators-1.0.14-py3-none-any.whl size=12882 sha256=1d400ae088268a096ec3bfe4170fb8189816859cb5080f9cc36bdf7bc3f0e965\n",
            "  Stored in directory: /root/.cache/pip/wheels/bc/22/94/eda4e8caf00c0ffd3030fecbf2e0334b8a7f038f4451e20b00\n",
            "Successfully built keras-video-generators\n",
            "Installing collected packages: keras-video-generators\n",
            "Successfully installed keras-video-generators-1.0.14\n"
          ]
        }
      ]
    },
    {
      "cell_type": "code",
      "metadata": {
        "colab": {
          "base_uri": "https://localhost:8080/"
        },
        "id": "H9s6ClQ-GEq4",
        "outputId": "5415f2bf-3ad8-47cd-d6f3-b188c6acf671"
      },
      "source": [
        "path = '/content/drive'\n",
        "drive.mount(path)"
      ],
      "execution_count": 2,
      "outputs": [
        {
          "output_type": "stream",
          "name": "stdout",
          "text": [
            "Mounted at /content/drive\n"
          ]
        }
      ]
    },
    {
      "cell_type": "markdown",
      "metadata": {
        "id": "m0NlCMJVHIpT"
      },
      "source": [
        "<h3><font color='red'>Note : </font> If you already have done preprocessing please skip to Data Augmentation</h3>"
      ]
    },
    {
      "cell_type": "code",
      "metadata": {
        "id": "bdv3VPkpGIeb"
      },
      "source": [
        "'''add path to your dataset, the dataset must contain two subdirectories consisting of the classes\n",
        "in the classes function add the name of your subdirectory'''\n",
        "\n",
        "train_path ='/content/drive/MyDrive/deepfake_detection/DeepFake_Detection/Train (Implementation)/'\n",
        "\n",
        "classes = [\"Fake\",\"Real\"]\n",
        "\n",
        "video_files = []\n",
        "labels = []\n",
        "\n",
        "for i in classes:\n",
        "  temp_path = train_path + i +'/'\n",
        "\n",
        "  for files in os.listdir(temp_path):\n",
        "    path = temp_path + files\n",
        "    video_files.append(path)\n",
        "    labels.append(i)"
      ],
      "execution_count": 3,
      "outputs": []
    },
    {
      "cell_type": "markdown",
      "metadata": {
        "id": "aMH6feUGGRlv"
      },
      "source": [
        "<h1><font color='red'>Preprocessing Dataset</h1>"
      ]
    },
    {
      "cell_type": "code",
      "metadata": {
        "execution": {
          "iopub.status.busy": "2021-09-27T14:35:33.262015Z",
          "iopub.execute_input": "2021-09-27T14:35:33.262301Z",
          "iopub.status.idle": "2021-09-27T14:35:33.269021Z",
          "shell.execute_reply.started": "2021-09-27T14:35:33.262255Z",
          "shell.execute_reply": "2021-09-27T14:35:33.266728Z"
        },
        "trusted": true,
        "id": "6ftszRPAF23b"
      },
      "source": [
        "try:\n",
        "    os.mkdir('/content/drive/MyDrive/deepfake_detection/DeepFake_Detection/Train (Implementation)/')\n",
        "    os.mkdir('/content/drive/MyDrive/deepfake_detection/DeepFake_Detection/Train (Implementation)/Real')\n",
        "    os.mkdir('/content/drive/MyDrive/deepfake_detection/DeepFake_Detection/Train (Implementation)/Fake')\n",
        "except:\n",
        "    print('Dir already exists')\n",
        "    \n",
        "path_fake = '/content/drive/MyDrive/deepfake_detection/DeepFake_Detection/Train (Implementation)/Fake/'\n",
        "path_real = '/content/drive/MyDrive/deepfake_detection/DeepFake_Detection/Train (Implementation)/Real/'"
      ],
      "execution_count": null,
      "outputs": []
    },
    {
      "cell_type": "code",
      "metadata": {
        "execution": {
          "iopub.status.busy": "2021-09-27T14:35:33.27069Z",
          "iopub.execute_input": "2021-09-27T14:35:33.271343Z",
          "iopub.status.idle": "2021-09-27T14:35:33.28372Z",
          "shell.execute_reply.started": "2021-09-27T14:35:33.270957Z",
          "shell.execute_reply": "2021-09-27T14:35:33.282353Z"
        },
        "trusted": true,
        "id": "uK9klgh-F23c"
      },
      "source": [
        "'''Currently the image frames in a video are of different shape so using crop_frames we will \n",
        "extract the frames from the videos and using face recognition we will detect face in the frames\n",
        "and then crop the image having only face. Later we will resize the cropped images to (256,256) '''\n",
        "\n",
        "'''The dataset used is already preprocessed and resized and hence we don't need to run the function again'''\n",
        "\n",
        "def crop_frames(image,label,k):\n",
        "    \n",
        "    faces = detector.detect_faces(image)\n",
        "    p= 60\n",
        "    \n",
        "    if(len(faces)>0):\n",
        "        for face in faces:\n",
        "\n",
        "            x, y, width, height = face['box']\n",
        "            x = x - min(x,60)\n",
        "            x1 = x+width+ min(image.shape[1]-x-width,60)\n",
        "            y = y - min(y,60)\n",
        "            y1 = y+height+ min(image.shape[0]-y-height,60)\n",
        "            crop = np.array(image[y:y1,x:x1])\n",
        "            crop = cv.cvtColor(crop,cv.COLOR_BGR2RGB)\n",
        "            k = k+1\n",
        "\n",
        "            if label == 'FAKE':\n",
        "                cv.imwrite(path_fake+str(k)+'.jpeg',crop)\n",
        "            else:\n",
        "                cv.imwrite(path_real+str(k)+'.jpeg',crop)\n",
        "\n",
        "    return k"
      ],
      "execution_count": null,
      "outputs": []
    },
    {
      "cell_type": "code",
      "metadata": {
        "execution": {
          "iopub.status.busy": "2021-09-27T14:35:59.138508Z",
          "iopub.execute_input": "2021-09-27T14:35:59.138797Z",
          "iopub.status.idle": "2021-09-27T14:39:36.470653Z",
          "shell.execute_reply.started": "2021-09-27T14:35:59.138749Z",
          "shell.execute_reply": "2021-09-27T14:39:36.468122Z"
        },
        "trusted": true,
        "id": "sAeHHCdrF23c"
      },
      "source": [
        "#main code which will call the function for cropping the videos\n",
        "\n",
        "detector = MTCNN()\n",
        "\n",
        "frame = np.arange(5,101,5)\n",
        "k = 0\n",
        "\n",
        "for i in range(len(X)):\n",
        "    cnt = 0\n",
        "    cap = cv.VideoCapture(X[i])\n",
        "    while(cnt<101):\n",
        "        _,image = cap.read()\n",
        "        \n",
        "        if cnt in frame:\n",
        "            k = crop_frames(image,Y[i],k)\n",
        "            \n",
        "        cnt= cnt+1\n",
        "\n",
        "    cap.release()\n",
        "    print(i)"
      ],
      "execution_count": null,
      "outputs": []
    },
    {
      "cell_type": "markdown",
      "metadata": {
        "id": "FjW-4mujG-Dn"
      },
      "source": [
        "<h1><font color='red'>Data Augmentation</h1>"
      ]
    },
    {
      "cell_type": "code",
      "metadata": {
        "execution": {
          "iopub.status.busy": "2021-09-28T07:31:17.733789Z",
          "iopub.execute_input": "2021-09-28T07:31:17.7341Z",
          "iopub.status.idle": "2021-09-28T07:31:18.075893Z",
          "shell.execute_reply.started": "2021-09-28T07:31:17.734049Z",
          "shell.execute_reply": "2021-09-28T07:31:18.075049Z"
        },
        "trusted": true,
        "colab": {
          "base_uri": "https://localhost:8080/"
        },
        "id": "eKqtWqVCF23e",
        "outputId": "22f1370c-7ce3-44aa-f205-15cf47085504"
      },
      "source": [
        "# since we have fewer data we will use data augmentation techniques to boost out accuracy\n",
        "# set the input path to the directory consisting the training folder\n",
        "\n",
        "input_path = '/content/drive/MyDrive/deepfake_detection/DeepFake_Detection/Train (Implementation)/'\n",
        "\n",
        "# datagen is ImageDataGenerator variable which will be used to augment our data\n",
        "\n",
        "datagen = ImageDataGenerator(rescale=1/255,\n",
        "                             rotation_range=20,\n",
        "                             horizontal_flip=True,\n",
        "                             height_shift_range=0.1,\n",
        "                             width_shift_range=0.1,\n",
        "                             shear_range=0.1,\n",
        "                             validation_split=0.2\n",
        "                            )\n",
        "\n",
        "train_gen= datagen.flow_from_directory(input_path,\n",
        "                                       target_size=(256,256),\n",
        "                                       class_mode='binary',\n",
        "                                       subset='training'\n",
        "                                      )\n",
        "val_gen = datagen.flow_from_directory( input_path,\n",
        "                                       target_size=(256,256),\n",
        "                                       class_mode='binary',\n",
        "                                       subset='validation'\n",
        "                                      )"
      ],
      "execution_count": 3,
      "outputs": [
        {
          "output_type": "stream",
          "name": "stdout",
          "text": [
            "Found 1331 images belonging to 2 classes.\n",
            "Found 332 images belonging to 2 classes.\n"
          ]
        }
      ]
    },
    {
      "cell_type": "code",
      "metadata": {
        "execution": {
          "iopub.status.busy": "2021-09-28T07:31:20.668571Z",
          "iopub.execute_input": "2021-09-28T07:31:20.668887Z",
          "iopub.status.idle": "2021-09-28T07:31:20.92304Z",
          "shell.execute_reply.started": "2021-09-28T07:31:20.668834Z",
          "shell.execute_reply": "2021-09-28T07:31:20.922229Z"
        },
        "trusted": true,
        "id": "VdFVSILQF23f"
      },
      "source": [
        "# we will use Meso-4 network Architecture\n",
        "\n",
        "model = Sequential()\n",
        "model.add(Conv2D(8,(3,3),activation='relu',padding='same',input_shape=(256,256,3)))\n",
        "model.add(BatchNormalization())\n",
        "model.add(MaxPooling2D((2,2)))\n",
        "model.add(Conv2D(8,(5,5),padding='same',activation='relu'))\n",
        "model.add(BatchNormalization())\n",
        "model.add(MaxPooling2D((2,2)))\n",
        "model.add(Conv2D(16,(5,5),padding='same',activation='relu'))\n",
        "model.add(BatchNormalization())\n",
        "model.add(MaxPooling2D((2,2)))\n",
        "model.add(Conv2D(16,(5,5),padding='same',activation='relu'))\n",
        "model.add(BatchNormalization())\n",
        "model.add(MaxPooling2D((4,4)))\n",
        "model.add(Flatten())\n",
        "model.add(Dropout(0.5))\n",
        "model.add(Dense(16,activation='relu'))\n",
        "model.add(Dropout(0.5))\n",
        "model.add(Dense(1,activation='sigmoid'))"
      ],
      "execution_count": 4,
      "outputs": []
    },
    {
      "cell_type": "code",
      "metadata": {
        "execution": {
          "iopub.status.busy": "2021-09-28T07:31:23.508639Z",
          "iopub.execute_input": "2021-09-28T07:31:23.508969Z",
          "iopub.status.idle": "2021-09-28T07:31:23.516783Z",
          "shell.execute_reply.started": "2021-09-28T07:31:23.508918Z",
          "shell.execute_reply": "2021-09-28T07:31:23.515954Z"
        },
        "trusted": true,
        "colab": {
          "base_uri": "https://localhost:8080/"
        },
        "id": "rcjXdT1LF23f",
        "outputId": "23b4aa55-9830-484c-ca45-b6543b89cdd9"
      },
      "source": [
        "model.summary() # print the model architecture"
      ],
      "execution_count": 5,
      "outputs": [
        {
          "output_type": "stream",
          "name": "stdout",
          "text": [
            "Model: \"sequential\"\n",
            "_________________________________________________________________\n",
            "Layer (type)                 Output Shape              Param #   \n",
            "=================================================================\n",
            "conv2d (Conv2D)              (None, 256, 256, 8)       224       \n",
            "_________________________________________________________________\n",
            "batch_normalization (BatchNo (None, 256, 256, 8)       32        \n",
            "_________________________________________________________________\n",
            "max_pooling2d (MaxPooling2D) (None, 128, 128, 8)       0         \n",
            "_________________________________________________________________\n",
            "conv2d_1 (Conv2D)            (None, 128, 128, 8)       1608      \n",
            "_________________________________________________________________\n",
            "batch_normalization_1 (Batch (None, 128, 128, 8)       32        \n",
            "_________________________________________________________________\n",
            "max_pooling2d_1 (MaxPooling2 (None, 64, 64, 8)         0         \n",
            "_________________________________________________________________\n",
            "conv2d_2 (Conv2D)            (None, 64, 64, 16)        3216      \n",
            "_________________________________________________________________\n",
            "batch_normalization_2 (Batch (None, 64, 64, 16)        64        \n",
            "_________________________________________________________________\n",
            "max_pooling2d_2 (MaxPooling2 (None, 32, 32, 16)        0         \n",
            "_________________________________________________________________\n",
            "conv2d_3 (Conv2D)            (None, 32, 32, 16)        6416      \n",
            "_________________________________________________________________\n",
            "batch_normalization_3 (Batch (None, 32, 32, 16)        64        \n",
            "_________________________________________________________________\n",
            "max_pooling2d_3 (MaxPooling2 (None, 8, 8, 16)          0         \n",
            "_________________________________________________________________\n",
            "flatten (Flatten)            (None, 1024)              0         \n",
            "_________________________________________________________________\n",
            "dropout (Dropout)            (None, 1024)              0         \n",
            "_________________________________________________________________\n",
            "dense (Dense)                (None, 16)                16400     \n",
            "_________________________________________________________________\n",
            "dropout_1 (Dropout)          (None, 16)                0         \n",
            "_________________________________________________________________\n",
            "dense_1 (Dense)              (None, 1)                 17        \n",
            "=================================================================\n",
            "Total params: 28,073\n",
            "Trainable params: 27,977\n",
            "Non-trainable params: 96\n",
            "_________________________________________________________________\n"
          ]
        }
      ]
    },
    {
      "cell_type": "code",
      "metadata": {
        "execution": {
          "iopub.status.busy": "2021-09-28T07:31:26.219462Z",
          "iopub.execute_input": "2021-09-28T07:31:26.219775Z",
          "iopub.status.idle": "2021-09-28T07:31:26.252905Z",
          "shell.execute_reply.started": "2021-09-28T07:31:26.219719Z",
          "shell.execute_reply": "2021-09-28T07:31:26.252233Z"
        },
        "trusted": true,
        "colab": {
          "base_uri": "https://localhost:8080/"
        },
        "id": "IaIk9v9RF23f",
        "outputId": "190a2403-6535-42e2-af50-a3dfed73b9d4"
      },
      "source": [
        "# we will use binary crossentropy as our loss function and adam as the optimizer\n",
        "# we will set our metrics to accuracy so that we can observe model accuracy during training\n",
        "# the model will train for 50 epochs\n",
        "\n",
        "model.compile(loss='binary_crossentropy',\n",
        "              optimizer='adam',\n",
        "              metrics=['accuracy']\n",
        "             )\n",
        "\n",
        "history = model.fit(train_gen,validation_data=val_gen, epochs=50)"
      ],
      "execution_count": 6,
      "outputs": [
        {
          "output_type": "stream",
          "name": "stdout",
          "text": [
            "Epoch 1/50\n",
            "42/42 [==============================] - 504s 11s/step - loss: 0.9793 - accuracy: 0.5252 - val_loss: 0.7019 - val_accuracy: 0.5030\n",
            "Epoch 2/50\n",
            "42/42 [==============================] - 27s 656ms/step - loss: 0.6933 - accuracy: 0.5530 - val_loss: 0.7302 - val_accuracy: 0.4910\n",
            "Epoch 3/50\n",
            "42/42 [==============================] - 27s 654ms/step - loss: 0.6815 - accuracy: 0.5718 - val_loss: 0.7200 - val_accuracy: 0.4428\n",
            "Epoch 4/50\n",
            "42/42 [==============================] - 27s 645ms/step - loss: 0.6730 - accuracy: 0.5687 - val_loss: 0.6997 - val_accuracy: 0.5361\n",
            "Epoch 5/50\n",
            "42/42 [==============================] - 27s 653ms/step - loss: 0.6508 - accuracy: 0.5965 - val_loss: 0.7197 - val_accuracy: 0.4880\n",
            "Epoch 6/50\n",
            "42/42 [==============================] - 27s 647ms/step - loss: 0.6830 - accuracy: 0.5259 - val_loss: 0.6856 - val_accuracy: 0.6235\n",
            "Epoch 7/50\n",
            "42/42 [==============================] - 27s 650ms/step - loss: 0.6655 - accuracy: 0.5770 - val_loss: 0.6838 - val_accuracy: 0.5753\n",
            "Epoch 8/50\n",
            "42/42 [==============================] - 27s 638ms/step - loss: 0.6640 - accuracy: 0.5823 - val_loss: 0.6858 - val_accuracy: 0.5512\n",
            "Epoch 9/50\n",
            "42/42 [==============================] - 27s 642ms/step - loss: 0.6497 - accuracy: 0.6086 - val_loss: 0.7165 - val_accuracy: 0.4337\n",
            "Epoch 10/50\n",
            "42/42 [==============================] - 27s 647ms/step - loss: 0.6425 - accuracy: 0.6123 - val_loss: 0.9203 - val_accuracy: 0.4036\n",
            "Epoch 11/50\n",
            "42/42 [==============================] - 27s 637ms/step - loss: 0.6355 - accuracy: 0.6048 - val_loss: 1.0139 - val_accuracy: 0.4608\n",
            "Epoch 12/50\n",
            "42/42 [==============================] - 27s 644ms/step - loss: 0.6397 - accuracy: 0.6048 - val_loss: 0.7090 - val_accuracy: 0.5120\n",
            "Epoch 13/50\n",
            "42/42 [==============================] - 27s 636ms/step - loss: 0.6306 - accuracy: 0.6183 - val_loss: 0.7389 - val_accuracy: 0.4759\n",
            "Epoch 14/50\n",
            "42/42 [==============================] - 27s 643ms/step - loss: 0.6314 - accuracy: 0.6213 - val_loss: 0.9489 - val_accuracy: 0.4940\n",
            "Epoch 15/50\n",
            "42/42 [==============================] - 27s 642ms/step - loss: 0.6291 - accuracy: 0.6341 - val_loss: 0.9370 - val_accuracy: 0.4639\n",
            "Epoch 16/50\n",
            "42/42 [==============================] - 27s 643ms/step - loss: 0.6128 - accuracy: 0.6416 - val_loss: 0.9147 - val_accuracy: 0.4367\n",
            "Epoch 17/50\n",
            "42/42 [==============================] - 27s 641ms/step - loss: 0.6079 - accuracy: 0.6364 - val_loss: 0.7068 - val_accuracy: 0.5241\n",
            "Epoch 18/50\n",
            "42/42 [==============================] - 27s 641ms/step - loss: 0.6247 - accuracy: 0.6296 - val_loss: 0.8533 - val_accuracy: 0.5663\n",
            "Epoch 19/50\n",
            "42/42 [==============================] - 27s 645ms/step - loss: 0.6155 - accuracy: 0.6243 - val_loss: 0.7141 - val_accuracy: 0.5211\n",
            "Epoch 20/50\n",
            "42/42 [==============================] - 27s 637ms/step - loss: 0.6086 - accuracy: 0.6281 - val_loss: 0.9032 - val_accuracy: 0.5512\n",
            "Epoch 21/50\n",
            "42/42 [==============================] - 27s 639ms/step - loss: 0.6280 - accuracy: 0.6289 - val_loss: 1.0659 - val_accuracy: 0.5331\n",
            "Epoch 22/50\n",
            "42/42 [==============================] - 27s 636ms/step - loss: 0.6117 - accuracy: 0.6266 - val_loss: 1.1873 - val_accuracy: 0.5392\n",
            "Epoch 23/50\n",
            "42/42 [==============================] - 27s 641ms/step - loss: 0.6057 - accuracy: 0.6491 - val_loss: 0.9165 - val_accuracy: 0.4608\n",
            "Epoch 24/50\n",
            "42/42 [==============================] - 27s 645ms/step - loss: 0.5937 - accuracy: 0.6521 - val_loss: 0.7445 - val_accuracy: 0.5241\n",
            "Epoch 25/50\n",
            "42/42 [==============================] - 27s 656ms/step - loss: 0.6069 - accuracy: 0.6491 - val_loss: 0.8897 - val_accuracy: 0.4428\n",
            "Epoch 26/50\n",
            "42/42 [==============================] - 27s 654ms/step - loss: 0.5888 - accuracy: 0.6431 - val_loss: 0.9996 - val_accuracy: 0.5452\n",
            "Epoch 27/50\n",
            "42/42 [==============================] - 27s 655ms/step - loss: 0.6231 - accuracy: 0.6566 - val_loss: 0.7101 - val_accuracy: 0.5602\n",
            "Epoch 28/50\n",
            "42/42 [==============================] - 27s 656ms/step - loss: 0.6028 - accuracy: 0.6551 - val_loss: 0.8662 - val_accuracy: 0.5542\n",
            "Epoch 29/50\n",
            "42/42 [==============================] - 27s 645ms/step - loss: 0.5940 - accuracy: 0.6506 - val_loss: 0.9364 - val_accuracy: 0.4970\n",
            "Epoch 30/50\n",
            "42/42 [==============================] - 27s 656ms/step - loss: 0.6008 - accuracy: 0.6379 - val_loss: 0.8943 - val_accuracy: 0.5723\n",
            "Epoch 31/50\n",
            "42/42 [==============================] - 27s 648ms/step - loss: 0.5901 - accuracy: 0.6529 - val_loss: 1.7564 - val_accuracy: 0.5753\n",
            "Epoch 32/50\n",
            "42/42 [==============================] - 27s 646ms/step - loss: 0.6047 - accuracy: 0.6364 - val_loss: 1.0073 - val_accuracy: 0.5452\n",
            "Epoch 33/50\n",
            "42/42 [==============================] - 28s 658ms/step - loss: 0.5892 - accuracy: 0.6544 - val_loss: 0.9578 - val_accuracy: 0.5211\n",
            "Epoch 34/50\n",
            "42/42 [==============================] - 28s 666ms/step - loss: 0.5783 - accuracy: 0.6777 - val_loss: 1.0487 - val_accuracy: 0.4548\n",
            "Epoch 35/50\n",
            "42/42 [==============================] - 28s 661ms/step - loss: 0.5739 - accuracy: 0.6694 - val_loss: 0.9417 - val_accuracy: 0.5904\n",
            "Epoch 36/50\n",
            "42/42 [==============================] - 28s 661ms/step - loss: 0.5788 - accuracy: 0.6747 - val_loss: 0.9592 - val_accuracy: 0.4488\n",
            "Epoch 37/50\n",
            "42/42 [==============================] - 28s 661ms/step - loss: 0.5853 - accuracy: 0.6694 - val_loss: 0.8831 - val_accuracy: 0.4789\n",
            "Epoch 38/50\n",
            "42/42 [==============================] - 27s 655ms/step - loss: 0.5643 - accuracy: 0.6965 - val_loss: 0.7947 - val_accuracy: 0.5753\n",
            "Epoch 39/50\n",
            "42/42 [==============================] - 27s 649ms/step - loss: 0.5620 - accuracy: 0.6905 - val_loss: 1.3155 - val_accuracy: 0.5422\n",
            "Epoch 40/50\n",
            "42/42 [==============================] - 28s 659ms/step - loss: 0.5633 - accuracy: 0.6777 - val_loss: 1.3022 - val_accuracy: 0.5452\n",
            "Epoch 41/50\n",
            "42/42 [==============================] - 27s 652ms/step - loss: 0.5726 - accuracy: 0.6867 - val_loss: 0.7762 - val_accuracy: 0.4970\n",
            "Epoch 42/50\n",
            "42/42 [==============================] - 27s 655ms/step - loss: 0.5883 - accuracy: 0.6409 - val_loss: 1.1347 - val_accuracy: 0.5211\n",
            "Epoch 43/50\n",
            "42/42 [==============================] - 27s 646ms/step - loss: 0.5591 - accuracy: 0.6754 - val_loss: 0.8915 - val_accuracy: 0.5843\n",
            "Epoch 44/50\n",
            "42/42 [==============================] - 27s 648ms/step - loss: 0.5652 - accuracy: 0.6717 - val_loss: 1.0077 - val_accuracy: 0.5753\n",
            "Epoch 45/50\n",
            "42/42 [==============================] - 27s 636ms/step - loss: 0.5583 - accuracy: 0.6890 - val_loss: 1.0813 - val_accuracy: 0.5602\n",
            "Epoch 46/50\n",
            "42/42 [==============================] - 27s 645ms/step - loss: 0.5750 - accuracy: 0.6702 - val_loss: 1.0784 - val_accuracy: 0.4819\n",
            "Epoch 47/50\n",
            "42/42 [==============================] - 27s 641ms/step - loss: 0.5647 - accuracy: 0.6717 - val_loss: 1.2552 - val_accuracy: 0.4699\n",
            "Epoch 48/50\n",
            "42/42 [==============================] - 27s 639ms/step - loss: 0.5481 - accuracy: 0.6957 - val_loss: 1.1488 - val_accuracy: 0.4970\n",
            "Epoch 49/50\n",
            "42/42 [==============================] - 27s 643ms/step - loss: 0.5424 - accuracy: 0.6844 - val_loss: 1.7613 - val_accuracy: 0.5392\n",
            "Epoch 50/50\n",
            "42/42 [==============================] - 27s 644ms/step - loss: 0.5703 - accuracy: 0.6897 - val_loss: 0.7794 - val_accuracy: 0.5572\n"
          ]
        }
      ]
    },
    {
      "cell_type": "markdown",
      "metadata": {
        "id": "G8980GMmIygV"
      },
      "source": [
        "<h1><font color='red'>Graphs and Saving model</h1>"
      ]
    },
    {
      "cell_type": "code",
      "metadata": {
        "id": "zzLDtbAsIqgA"
      },
      "source": [
        "#this custom graph can plot graph for loss as well for accuracy\n",
        "def plot_graph(history,string):\n",
        "    \n",
        "    plt.plot(history.history[string],label='training '+string)\n",
        "    plt.plot(history.history['val_'+string],label='validation '+string)\n",
        "    plt.legend()\n",
        "    plt.xlabel('epochs')\n",
        "    plt.ylabel(string)\n",
        "    plt.grid()\n",
        "    plt.title(string+' vs epochs')\n",
        "    plt.savefig('./'+string+'.png')\n",
        "    plt.show()"
      ],
      "execution_count": 7,
      "outputs": []
    },
    {
      "cell_type": "code",
      "metadata": {
        "execution": {
          "iopub.status.busy": "2021-09-28T07:54:06.119774Z",
          "iopub.execute_input": "2021-09-28T07:54:06.120151Z",
          "iopub.status.idle": "2021-09-28T07:54:06.396603Z",
          "shell.execute_reply.started": "2021-09-28T07:54:06.120095Z",
          "shell.execute_reply": "2021-09-28T07:54:06.39583Z"
        },
        "trusted": true,
        "colab": {
          "base_uri": "https://localhost:8080/",
          "height": 295
        },
        "id": "8rbMS7mfF23g",
        "outputId": "9a836067-1654-4055-8999-1f5070ca0722"
      },
      "source": [
        "plot_graph(history,'loss')"
      ],
      "execution_count": 8,
      "outputs": [
        {
          "output_type": "display_data",
          "data": {
            "image/png": "[encoded data removed]",
            "text/plain": [
              "<Figure size 432x288 with 1 Axes>"
            ]
          },
          "metadata": {
            "needs_background": "light"
          }
        }
      ]
    },
    {
      "cell_type": "code",
      "metadata": {
        "execution": {
          "iopub.status.busy": "2021-09-28T07:54:12.739359Z",
          "iopub.execute_input": "2021-09-28T07:54:12.739653Z",
          "iopub.status.idle": "2021-09-28T07:54:12.997617Z",
          "shell.execute_reply.started": "2021-09-28T07:54:12.739601Z",
          "shell.execute_reply": "2021-09-28T07:54:12.996791Z"
        },
        "trusted": true,
        "colab": {
          "base_uri": "https://localhost:8080/",
          "height": 295
        },
        "id": "Rl9LYgsvF23g",
        "outputId": "a3545750-2f3c-4d4e-d703-7d31fb05f809"
      },
      "source": [
        "plot_graph(history,'accuracy')"
      ],
      "execution_count": 9,
      "outputs": [
        {
          "output_type": "display_data",
          "data": {
            "image/png": "[encoded data removed]",
            "text/plain": [
              "<Figure size 432x288 with 1 Axes>"
            ]
          },
          "metadata": {
            "needs_background": "light"
          }
        }
      ]
    },
    {
      "cell_type": "code",
      "metadata": {
        "colab": {
          "base_uri": "https://localhost:8080/"
        },
        "id": "Coravy8MJEn-",
        "outputId": "d542fb86-28b4-4b24-8168-f664b7fe1b8f"
      },
      "source": [
        "try:\n",
        "  os.mkdir('/content/drive/MyDrive/deepfake_detection/DeepFake_Detection/weights(implementation)')\n",
        "\n",
        "except:\n",
        "  print('Directory already exists')\n",
        "  \n",
        "model.save('/content/drive/MyDrive/deepfake_detection/DeepFake_Detection/weights(implementation)/weights')"
      ],
      "execution_count": 11,
      "outputs": [
        {
          "output_type": "stream",
          "name": "stdout",
          "text": [
            "Directory already exists\n",
            "INFO:tensorflow:Assets written to: /content/drive/MyDrive/deepfake_detection/DeepFake_Detection/weights(implementation)/weights/assets\n"
          ]
        }
      ]
    },
    {
      "cell_type": "markdown",
      "metadata": {
        "id": "X5vkXm43I-VK"
      },
      "source": [
        "<h1><font color='red'>Prediction</h1>"
      ]
    },
    {
      "cell_type": "code",
      "metadata": {
        "colab": {
          "base_uri": "https://localhost:8080/"
        },
        "id": "sPZ5DuzSXC81",
        "outputId": "564785bc-06fa-44ba-a071-0ef8e4c04ca7"
      },
      "source": [
        "#loading the saved model\n",
        "\n",
        "keras.models.load_model('/content/drive/MyDrive/deepfake_detection/DeepFake_Detection/weights(implementation)/weights')"
      ],
      "execution_count": 24,
      "outputs": [
        {
          "output_type": "execute_result",
          "data": {
            "text/plain": [
              "<keras.engine.sequential.Sequential at 0x7f543f05a5d0>"
            ]
          },
          "metadata": {},
          "execution_count": 24
        }
      ]
    },
    {
      "cell_type": "code",
      "metadata": {
        "id": "n9FTVExeRhel"
      },
      "source": [
        "#Model predict 0 for fake images and 1 for real images\n",
        "\n",
        "def predictor(image):\n",
        "    \n",
        "    faces = detector.detect_faces(image)\n",
        "    p= 60\n",
        "    cat = 0\n",
        "    \n",
        "    if(len(faces)>0):\n",
        "        for face in faces:\n",
        "\n",
        "            x, y, width, height = face['box']\n",
        "            x = x - min(x,60)\n",
        "            x1 = x+width+ min(image.shape[1]-x-width,60)\n",
        "            y = y - min(y,60)\n",
        "            y1 = y+height+ min(image.shape[0]-y-height,60)\n",
        "            crop = np.array(image[y:y1,x:x1])\n",
        "            crop = cv.resize(crop,(256,256))\n",
        "            crop = crop.reshape(-1,256,256,3)\n",
        "            q = model.predict(crop)\n",
        "            \n",
        "            if q < 0.5:\n",
        "                cat=0\n",
        "            else:\n",
        "                cat=1\n",
        "\n",
        "    return cat"
      ],
      "execution_count": 20,
      "outputs": []
    },
    {
      "cell_type": "code",
      "metadata": {
        "execution": {
          "iopub.status.busy": "2021-09-28T08:08:14.028891Z",
          "iopub.execute_input": "2021-09-28T08:08:14.029196Z",
          "iopub.status.idle": "2021-09-28T08:08:22.609993Z",
          "shell.execute_reply.started": "2021-09-28T08:08:14.029147Z",
          "shell.execute_reply": "2021-09-28T08:08:22.60911Z"
        },
        "trusted": true,
        "colab": {
          "base_uri": "https://localhost:8080/"
        },
        "id": "ZQYY5kW7F23i",
        "outputId": "16f4b16b-0674-444b-8962-aa42a9a358be"
      },
      "source": [
        "# set the path to the video you want to test \n",
        "\n",
        "detector = MTCNN()\n",
        "images_list = []\n",
        "output = []\n",
        "path  = '/content/drive/MyDrive/deepfake_detection/DeepFake_Detection/Train (Upgradation)/Fake/aaagqkcdis.mp4'\n",
        "frame = np.arange(5,150,5)\n",
        "\n",
        "for _ in range(1):\n",
        "    cnt = 0\n",
        "    cap = cv.VideoCapture(path)\n",
        "    \n",
        "    while(cnt<151):\n",
        "        _,image = cap.read()\n",
        "        \n",
        "        if cnt in frame:\n",
        "             output.append(predictor(image))\n",
        "            \n",
        "        cnt= cnt+1\n",
        "\n",
        "    cap.release()\n",
        "\n",
        "if len(cat)%2==0:\n",
        "  cat = cat[:-1]\n",
        "\n",
        "k = max(set(cat), key = cat.count)\n",
        "\n",
        "if k==0:\n",
        "  print('Video is forged')\n",
        "\n",
        "else:\n",
        "  print('Video is real')\n"
      ],
      "execution_count": 23,
      "outputs": [
        {
          "output_type": "stream",
          "name": "stdout",
          "text": [
            "Video is forged\n"
          ]
        }
      ]
    }
  ]
}